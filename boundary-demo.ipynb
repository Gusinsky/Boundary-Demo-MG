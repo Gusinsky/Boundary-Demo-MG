{
 "cells": [
  {
   "attachments": {},
   "cell_type": "markdown",
   "metadata": {},
   "source": [
    "# Boundary Demo\n",
    "\n",
    "## Demo Environment\n",
    "This terraform code builds an HCP Boundary enviroment that inclues connectivity to HCP Vault for credential brokering and injection, Okta integration for OIDC authentication and managed groups, and a number of AWS resources that are used as workers and Boundary targets.  \n",
    "### Organization Structure\n",
    "![image](./org-structure.png)\n",
    "### Lab Diagram\n",
    "![image](./diagram.png)\n",
    "### Components\n",
    "| Component | Purpose |\n",
    "| ----------- | ----------- |\n",
    "| HCP Boundary | Boundary Control Plane |\n",
    "| HCP Vault | Boundary Credential Store |\n",
    "| Boundary Worker | Boundary EC2 Worker |\n",
    "| Okta | OIDC Authentication |\n",
    "| EKS Cluster | K8s Target |\n",
    "| EC2 Linux Instance | SSH Cert Auth Target |\n",
    "| RDS Postgres Database | Database Target |\n",
    "| EC2 Windows Instance | RDP Target |\n",
    "\n",
    "## Setup\n",
    "### Workspaces and Variables\n",
    "This repo was build to run on Terraform Cloud/Enterprise.  It uses the tfe_outputs data source to pass parameters from the init module to the build module.  If you want to run this locally you will need to modify the code to use cross state sharing to populate those values.  Additionally, you will need to update or remote the cloud provider block to match your Terraform configuration. \n",
    "\n",
    "This repo consists of two modules:\n",
    " \n",
    "boundary-demo-init - This module builds an HCP Boundary Cluster and HCP Vault Cluster along with an associated HVN for the Vault Cluster.  \n",
    "boundary-demo-eks - This module does the bulk of the work, building out all of the Boundary and Vault configuration as well as the AWS components used as workers and targets.\n",
    "\n",
    "#### boundary-demo-init\n",
    "| Variable | Type | Purpose |\n",
    "| --------- | -------- | -------- |\n",
    "| boundary_user | terraform | The user name you would like to use for the default admin user created in the HCP Boundary Cluster |\n",
    "| boundary_password | terraform | The password you would like to use for the default admin user created in the HCP Boundary Cluster |\n",
    "| HCP_CLIENT_ID | environment | The Client ID used to authenticate to HCP |\n",
    "| HCP_CLIENT_SECRET | environment | The Secret Key used to authenticate to HCP |\n",
    "\n",
    "#### boundary-demo-eks\n",
    "| Variable | Type | Purpose |\n",
    "| --------- | -------- | -------- |\n",
    "| region | terraform | The AWS region to deploy worker and targets into |\n",
    "| boundary_user | terraform | The Boundary admin user that will be set in the provider | \n",
    "| boundary_password | terraform | The Boundary admin user password that will be set in the provider |\n",
    "| db_user | terraform | The username to set on the Postgres database Boundary target |\n",
    "| db_user | terraform | The password to set on the Postgres database Boundary target |\n",
    "| okta_baseurl | terraform | The base url for the Okta organization used for OIDC integration.  Probably okta.com |\n",
    "| okta_org_name | terraform | The organization name for the Okta organization use for OIDC integration i.e. dev-32201783 |\n",
    "| HCP_CLIENT_ID | environment | The Client ID used to authenticate the HCP provider |\n",
    "| HCP_CLIENT_SECRET | environment | The Secret Key used to authenticate the HCP provider |\n",
    "| OKTA_API_TOKEN | environment | The token used to authenticate the Okta provider |\n",
    "| TFE_TOKEN | environment | The token used to authenticate the Terraform provider to use the tfe_outputs data source |\n",
    "| AWS_ACCESS_KEY_ID | environment | The AWS Access Key used to authenticate the AWS provider |\n",
    "| AWS_SECRET_ACCESS_KEY | environment | The AWS Secret Key used to authenticate the AWS provider |\n",
    "\n",
    "Note: If you do not wish to use the Okta integration you can simply rename or delete the okta.tf configuration file.  All of the Okta related configuration is contained within the file and the terraform code should still build cleanly without it.  \n",
    "\n",
    "### To Build\n",
    "Set the variables to appropriate values and update the cloud block in the providers.tf files in each module as appropriate.  \n",
    "Init and apply the boundary-demo-init terraform first"
   ]
  },
  {
   "cell_type": "code",
   "execution_count": null,
   "metadata": {},
   "outputs": [],
   "source": [
    "boundary-demo-init % terraform init\n",
    "boundary-demo-init % terraform apply -auto-approve"
   ]
  },
  {
   "attachments": {},
   "cell_type": "markdown",
   "metadata": {},
   "source": [
    "Once the boundary-demo-init run has completed init and apply the boundary-demo-eks terraform"
   ]
  },
  {
   "cell_type": "code",
   "execution_count": null,
   "metadata": {},
   "outputs": [],
   "source": [
    "boundary-demo-eks % terraform init\n",
    "boundary-demo-eks % terraform apply -auto-approve"
   ]
  },
  {
   "attachments": {},
   "cell_type": "markdown",
   "metadata": {},
   "source": [
    "Notes: The terraform code is generally stable and completes in a single run but if you experience issues a second run is usually enough to correct them.  If for some reason you need to rebuild the EC2 Boundary worker you should also taint the boundary_worker resource as rebuilding the EC2 instance without re-creating the worker in Boundary and getting a new auth key will cause the worker to fail to connect to the Boundary control plane.  "
   ]
  },
  {
   "cell_type": "code",
   "execution_count": null,
   "metadata": {},
   "outputs": [],
   "source": [
    "boundary connect rdp -exec bash -target-id $TARGET_ID -- -c \"open rdp://full%20address=s={{boundary.addr}} && sleep 600\""
   ]
  }
 ],
 "metadata": {
  "kernelspec": {
   "display_name": "myenv",
   "language": "python",
   "name": "python3"
  },
  "language_info": {
   "name": "python",
   "version": "3.9.16 (main, Mar  8 2023, 04:29:24) \n[Clang 14.0.6 ]"
  },
  "orig_nbformat": 4,
  "vscode": {
   "interpreter": {
    "hash": "dd17eebfaf4bc07646971367f9c09bc05dde6f0190e723c8a4a1d7c2adc7923f"
   }
  }
 },
 "nbformat": 4,
 "nbformat_minor": 2
}
