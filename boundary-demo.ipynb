{
 "cells": [
  {
   "attachments": {},
   "cell_type": "markdown",
   "metadata": {},
   "source": [
    "# Boundary Demo\n",
    "\n",
    "## Demo Environment\n",
    "### Organization Structure\n",
    "![image](./org-structure.png)\n",
    "### Lab Diagram\n",
    "![image](./diagram.png)\n",
    "### Components\n",
    "| Component | Purpose |\n",
    "| ----------- | ----------- |\n",
    "| HCP Boundary | Boundary Control Plane |\n",
    "| HCP Vault | Boundary Credential Store |\n",
    "| Boundary Worker | Boundary EC2 Worker |\n",
    "| Okta | OIDC Authentication |\n",
    "| EKS Cluster | Kube Target |\n",
    "| EC2 Linux Instance | SSH Cert Auth Target |\n",
    "| RDS Postgres Database | Database Target |\n",
    "| EC2 Windows Instance | RDP Target |\n",
    "\n",
    "## Setup\n",
    "\n",
    "## "
   ]
  },
  {
   "cell_type": "markdown",
   "metadata": {},
   "source": []
  }
 ],
 "metadata": {
  "kernelspec": {
   "display_name": "myenv",
   "language": "python",
   "name": "python3"
  },
  "language_info": {
   "name": "python",
   "version": "3.9.16 (main, Mar  8 2023, 04:29:24) \n[Clang 14.0.6 ]"
  },
  "orig_nbformat": 4,
  "vscode": {
   "interpreter": {
    "hash": "dd17eebfaf4bc07646971367f9c09bc05dde6f0190e723c8a4a1d7c2adc7923f"
   }
  }
 },
 "nbformat": 4,
 "nbformat_minor": 2
}
